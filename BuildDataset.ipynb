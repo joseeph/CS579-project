{
 "cells": [
  {
   "cell_type": "code",
   "execution_count": 31,
   "metadata": {},
   "outputs": [],
   "source": [
    "from Framework.UtilFuncs import PickleRead, PickleWrite\n",
    "import pandas as pd"
   ]
  },
  {
   "cell_type": "code",
   "execution_count": 32,
   "metadata": {},
   "outputs": [
    {
     "name": "stdout",
     "output_type": "stream",
     "text": [
      "load:./Data/CitationGraphDF.dat\n",
      "load:./Data/MiscInfoDF.dat\n",
      "load:./Data/co_author_analysii.pkl\n"
     ]
    }
   ],
   "source": [
    "citation_df = PickleRead(\"./Data/CitationGraphDF.dat\")\n",
    "miscinfo_df = PickleRead(\"./Data/MiscInfoDF.dat\")\n",
    "coauthor_df = PickleRead(\"./Data/co_author_analysii.pkl\")"
   ]
  },
  {
   "cell_type": "code",
   "execution_count": 34,
   "metadata": {},
   "outputs": [
    {
     "data": {
      "text/plain": [
       "168563"
      ]
     },
     "execution_count": 34,
     "metadata": {},
     "output_type": "execute_result"
    }
   ],
   "source": [
    "citation_df.rename(columns={'NodeID':'PaperID', 'InDegreeCentrality':'PaperImportance_Degree'}, inplace=True)\n",
    "citation_df = citation_df[['PaperID', 'Year', 'PaperImportance_Degree']]\n",
    "#citation_df.head()\n",
    "len(citation_df)"
   ]
  },
  {
   "cell_type": "code",
   "execution_count": 37,
   "metadata": {},
   "outputs": [
    {
     "data": {
      "text/html": [
       "<div>\n",
       "<style scoped>\n",
       "    .dataframe tbody tr th:only-of-type {\n",
       "        vertical-align: middle;\n",
       "    }\n",
       "\n",
       "    .dataframe tbody tr th {\n",
       "        vertical-align: top;\n",
       "    }\n",
       "\n",
       "    .dataframe thead th {\n",
       "        text-align: right;\n",
       "    }\n",
       "</style>\n",
       "<table border=\"1\" class=\"dataframe\">\n",
       "  <thead>\n",
       "    <tr style=\"text-align: right;\">\n",
       "      <th></th>\n",
       "      <th>PaperID</th>\n",
       "      <th>Year</th>\n",
       "      <th>AuthorImportance_MaxDegree</th>\n",
       "      <th>AuthorImportance_MaxCloseness</th>\n",
       "      <th>AuthorImportance_SumDegree</th>\n",
       "      <th>AuthorImportance_SumCloseness</th>\n",
       "    </tr>\n",
       "  </thead>\n",
       "  <tbody>\n",
       "    <tr>\n",
       "      <th>0</th>\n",
       "      <td>0001001</td>\n",
       "      <td>2000</td>\n",
       "      <td>0.000689</td>\n",
       "      <td>0.001275</td>\n",
       "      <td>0.000689</td>\n",
       "      <td>0.001275</td>\n",
       "    </tr>\n",
       "    <tr>\n",
       "      <th>1</th>\n",
       "      <td>0001001</td>\n",
       "      <td>2001</td>\n",
       "      <td>0.000739</td>\n",
       "      <td>0.003518</td>\n",
       "      <td>0.000739</td>\n",
       "      <td>0.003518</td>\n",
       "    </tr>\n",
       "    <tr>\n",
       "      <th>2</th>\n",
       "      <td>0001001</td>\n",
       "      <td>2002</td>\n",
       "      <td>0.000803</td>\n",
       "      <td>0.003861</td>\n",
       "      <td>0.000803</td>\n",
       "      <td>0.003861</td>\n",
       "    </tr>\n",
       "    <tr>\n",
       "      <th>3</th>\n",
       "      <td>0001001</td>\n",
       "      <td>2003</td>\n",
       "      <td>0.000788</td>\n",
       "      <td>0.004100</td>\n",
       "      <td>0.000788</td>\n",
       "      <td>0.004100</td>\n",
       "    </tr>\n",
       "    <tr>\n",
       "      <th>4</th>\n",
       "      <td>0001002</td>\n",
       "      <td>2000</td>\n",
       "      <td>0.002145</td>\n",
       "      <td>0.003041</td>\n",
       "      <td>0.002375</td>\n",
       "      <td>0.003041</td>\n",
       "    </tr>\n",
       "  </tbody>\n",
       "</table>\n",
       "</div>"
      ],
      "text/plain": [
       "   PaperID  Year  AuthorImportance_MaxDegree  AuthorImportance_MaxCloseness  \\\n",
       "0  0001001  2000                    0.000689                       0.001275   \n",
       "1  0001001  2001                    0.000739                       0.003518   \n",
       "2  0001001  2002                    0.000803                       0.003861   \n",
       "3  0001001  2003                    0.000788                       0.004100   \n",
       "4  0001002  2000                    0.002145                       0.003041   \n",
       "\n",
       "   AuthorImportance_SumDegree  AuthorImportance_SumCloseness  \n",
       "0                    0.000689                       0.001275  \n",
       "1                    0.000739                       0.003518  \n",
       "2                    0.000803                       0.003861  \n",
       "3                    0.000788                       0.004100  \n",
       "4                    0.002375                       0.003041  "
      ]
     },
     "execution_count": 37,
     "metadata": {},
     "output_type": "execute_result"
    }
   ],
   "source": [
    "coauthor_df.rename(columns={'NodeID':'PaperID', 'DegreeCentrality':'AuthorImportance_MaxDegree', \n",
    "                            'ClosenessCentrality':'AuthorImportance_MaxCloseness',\n",
    "                            'Degree_Centrality_sum':'AuthorImportance_SumDegree',\n",
    "                            'Closeness_Centrality_sum':'AuthorImportance_SumCloseness'}, inplace=True)\n",
    "coauthor_df = coauthor_df[['PaperID', 'Year', 'AuthorImportance_MaxDegree', 'AuthorImportance_MaxCloseness',\n",
    "             'AuthorImportance_SumDegree', 'AuthorImportance_SumCloseness']]\n",
    "coauthor_df.head()\n",
    "#print(len(coauthor_df))"
   ]
  },
  {
   "cell_type": "code",
   "execution_count": 36,
   "metadata": {},
   "outputs": [
    {
     "name": "stdout",
     "output_type": "stream",
     "text": [
      "168563\n"
     ]
    }
   ],
   "source": [
    "miscinfo_df.rename(columns={'NodeID':'PaperID'}, inplace=True)\n",
    "#miscinfo_df.head()\n",
    "\n",
    "print(len(miscinfo_df))"
   ]
  },
  {
   "cell_type": "code",
   "execution_count": null,
   "metadata": {},
   "outputs": [],
   "source": [
    "merged_df = pd.merge(citation_df, coauthor_df, on=('PaperID', 'Year'))\n",
    "#print(len(merged_df))\n",
    "merged_df = pd.merge(merged_df, miscinfo_df, on=('PaperID', 'Year'))\n"
   ]
  },
  {
   "cell_type": "code",
   "execution_count": null,
   "metadata": {},
   "outputs": [
    {
     "name": "stdout",
     "output_type": "stream",
     "text": [
      "72256\n"
     ]
    }
   ],
   "source": [
    "#merged_df.head()\n",
    "\n",
    "print(len(merged_df))"
   ]
  },
  {
   "cell_type": "code",
   "execution_count": null,
   "metadata": {},
   "outputs": [],
   "source": [
    "merged_df.to_csv(\"./Data/Citation.csv\")"
   ]
  }
 ],
 "metadata": {
  "kernelspec": {
   "display_name": "cs579",
   "language": "python",
   "name": "python3"
  },
  "language_info": {
   "codemirror_mode": {
    "name": "ipython",
    "version": 3
   },
   "file_extension": ".py",
   "mimetype": "text/x-python",
   "name": "python",
   "nbconvert_exporter": "python",
   "pygments_lexer": "ipython3",
   "version": "3.9.18"
  }
 },
 "nbformat": 4,
 "nbformat_minor": 2
}
