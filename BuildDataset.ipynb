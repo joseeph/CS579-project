{
 "cells": [
  {
   "cell_type": "code",
   "execution_count": 23,
   "metadata": {},
   "outputs": [],
   "source": [
    "from Framework.UtilFuncs import PickleRead, PickleWrite\n",
    "import pandas as pd"
   ]
  },
  {
   "cell_type": "code",
   "execution_count": 24,
   "metadata": {},
   "outputs": [
    {
     "name": "stdout",
     "output_type": "stream",
     "text": [
      "load:./Data/CitationGraphDF.dat\n",
      "load:./Data/MiscInfoDF.dat\n",
      "load:./Data/co_author_analysii.pkl\n"
     ]
    }
   ],
   "source": [
    "citation_df = PickleRead(\"./Data/CitationGraphDF.dat\")\n",
    "miscinfo_df = PickleRead(\"./Data/MiscInfoDF.dat\")\n",
    "coauthor_df = PickleRead(\"./Data/co_author_analysii.pkl\")"
   ]
  },
  {
   "cell_type": "code",
   "execution_count": 25,
   "metadata": {},
   "outputs": [
    {
     "data": {
      "text/plain": [
       "167441"
      ]
     },
     "execution_count": 25,
     "metadata": {},
     "output_type": "execute_result"
    }
   ],
   "source": [
    "citation_df.rename(columns={'NodeID':'PaperID', 'InDegreeCentrality':'PaperImportance_Degree', \n",
    "                            'BetweennessCentrality':'PaperImportance_Betweenness'}, inplace=True)\n",
    "citation_df = citation_df[['PaperID', 'Year', 'PaperImportance_Degree', 'PaperImportance_Betweenness']]\n",
    "#citation_df.head()\n",
    "len(citation_df)"
   ]
  },
  {
   "cell_type": "code",
   "execution_count": 26,
   "metadata": {},
   "outputs": [
    {
     "name": "stdout",
     "output_type": "stream",
     "text": [
      "72256\n"
     ]
    }
   ],
   "source": [
    "coauthor_df.rename(columns={'NodeID':'PaperID', 'DegreeCentrality':'AuthorImportance_MaxDegree', \n",
    "                            'ClosenessCentrality':'AuthorImportance_MaxCloseness',\n",
    "                            'Degree_Centrality_sum':'AuthorImportance_SumDegree',\n",
    "                            'Closeness_Centrality_sum':'AuthorImportance_SumCloseness'}, inplace=True)\n",
    "coauthor_df = coauthor_df[['PaperID', 'Year', 'AuthorImportance_MaxDegree', 'AuthorImportance_MaxCloseness',\n",
    "             'AuthorImportance_SumDegree', 'AuthorImportance_SumCloseness']]\n",
    "#coauthor_df.head()\n",
    "print(len(coauthor_df))"
   ]
  },
  {
   "cell_type": "code",
   "execution_count": 27,
   "metadata": {},
   "outputs": [
    {
     "name": "stdout",
     "output_type": "stream",
     "text": [
      "167441\n"
     ]
    }
   ],
   "source": [
    "miscinfo_df.rename(columns={'NodeID':'PaperID'}, inplace=True)\n",
    "#miscinfo_df.head()\n",
    "\n",
    "print(len(miscinfo_df))"
   ]
  },
  {
   "cell_type": "code",
   "execution_count": 28,
   "metadata": {},
   "outputs": [],
   "source": [
    "merged_df = pd.merge(citation_df, coauthor_df, on=('PaperID', 'Year'))\n",
    "#print(len(merged_df))\n",
    "merged_df = pd.merge(merged_df, miscinfo_df, on=('PaperID', 'Year'))\n"
   ]
  },
  {
   "cell_type": "code",
   "execution_count": 29,
   "metadata": {},
   "outputs": [
    {
     "name": "stdout",
     "output_type": "stream",
     "text": [
      "72256\n"
     ]
    }
   ],
   "source": [
    "#merged_df.head()\n",
    "\n",
    "print(len(merged_df))"
   ]
  },
  {
   "cell_type": "code",
   "execution_count": 30,
   "metadata": {},
   "outputs": [],
   "source": [
    "merged_df.to_csv(\"./Data/Citation.csv\")"
   ]
  }
 ],
 "metadata": {
  "kernelspec": {
   "display_name": "cs579",
   "language": "python",
   "name": "python3"
  },
  "language_info": {
   "codemirror_mode": {
    "name": "ipython",
    "version": 3
   },
   "file_extension": ".py",
   "mimetype": "text/x-python",
   "name": "python",
   "nbconvert_exporter": "python",
   "pygments_lexer": "ipython3",
   "version": "3.9.18"
  }
 },
 "nbformat": 4,
 "nbformat_minor": 2
}
