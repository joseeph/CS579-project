{
 "cells": [
  {
   "cell_type": "code",
   "execution_count": 4,
   "metadata": {},
   "outputs": [],
   "source": [
    "from Framework.UtilFuncs import PickleRead, PickleWrite\n",
    "import pandas as pd"
   ]
  },
  {
   "cell_type": "code",
   "execution_count": 5,
   "metadata": {},
   "outputs": [
    {
     "name": "stdout",
     "output_type": "stream",
     "text": [
      "load:./Data/CitationGraphDF.dat\n",
      "load:./Data/MiscInfoDF.dat\n",
      "load:./Data/CoauthorGraphDF.dat\n"
     ]
    }
   ],
   "source": [
    "citation_df = PickleRead(\"./Data/CitationGraphDF.dat\")\n",
    "miscinfo_df = PickleRead(\"./Data/MiscInfoDF.dat\")\n",
    "coauthor_df = PickleRead(\"./Data/CoauthorGraphDF.dat\")"
   ]
  },
  {
   "cell_type": "code",
   "execution_count": 6,
   "metadata": {},
   "outputs": [
    {
     "data": {
      "text/plain": [
       "168563"
      ]
     },
     "execution_count": 6,
     "metadata": {},
     "output_type": "execute_result"
    }
   ],
   "source": [
    "citation_df.rename(columns={'NodeID':'PaperID', 'InDegreeCentrality':'PaperImportance_Degree'}, inplace=True)\n",
    "citation_df = citation_df[['PaperID', 'Year', 'PaperImportance_Degree']]\n",
    "#citation_df.head()\n",
    "len(citation_df)"
   ]
  },
  {
   "cell_type": "code",
   "execution_count": 8,
   "metadata": {},
   "outputs": [
    {
     "data": {
      "text/html": [
       "<div>\n",
       "<style scoped>\n",
       "    .dataframe tbody tr th:only-of-type {\n",
       "        vertical-align: middle;\n",
       "    }\n",
       "\n",
       "    .dataframe tbody tr th {\n",
       "        vertical-align: top;\n",
       "    }\n",
       "\n",
       "    .dataframe thead th {\n",
       "        text-align: right;\n",
       "    }\n",
       "</style>\n",
       "<table border=\"1\" class=\"dataframe\">\n",
       "  <thead>\n",
       "    <tr style=\"text-align: right;\">\n",
       "      <th></th>\n",
       "      <th>PaperID</th>\n",
       "      <th>Year</th>\n",
       "      <th>AuthorDegreeCentrality_Max</th>\n",
       "      <th>AuthorClosenessCentrality_Max</th>\n",
       "      <th>AuthorDegreeCentrality_Sum</th>\n",
       "      <th>AuthorClosenessCentrality_Sum</th>\n",
       "    </tr>\n",
       "  </thead>\n",
       "  <tbody>\n",
       "    <tr>\n",
       "      <th>0</th>\n",
       "      <td>9210123</td>\n",
       "      <td>1992</td>\n",
       "      <td>0.002244</td>\n",
       "      <td>0.002244</td>\n",
       "      <td>0.005236</td>\n",
       "      <td>0.002244</td>\n",
       "    </tr>\n",
       "    <tr>\n",
       "      <th>1</th>\n",
       "      <td>9206053</td>\n",
       "      <td>1992</td>\n",
       "      <td>0.001496</td>\n",
       "      <td>0.001496</td>\n",
       "      <td>0.002244</td>\n",
       "      <td>0.001496</td>\n",
       "    </tr>\n",
       "    <tr>\n",
       "      <th>2</th>\n",
       "      <td>9203079</td>\n",
       "      <td>1992</td>\n",
       "      <td>0.002244</td>\n",
       "      <td>0.002244</td>\n",
       "      <td>0.003740</td>\n",
       "      <td>0.002244</td>\n",
       "    </tr>\n",
       "    <tr>\n",
       "      <th>3</th>\n",
       "      <td>9308124</td>\n",
       "      <td>1992</td>\n",
       "      <td>0.002244</td>\n",
       "      <td>0.001683</td>\n",
       "      <td>0.004488</td>\n",
       "      <td>0.002431</td>\n",
       "    </tr>\n",
       "    <tr>\n",
       "      <th>4</th>\n",
       "      <td>9206084</td>\n",
       "      <td>1992</td>\n",
       "      <td>0.002244</td>\n",
       "      <td>0.000000</td>\n",
       "      <td>0.002244</td>\n",
       "      <td>0.000000</td>\n",
       "    </tr>\n",
       "  </tbody>\n",
       "</table>\n",
       "</div>"
      ],
      "text/plain": [
       "   PaperID  Year  AuthorDegreeCentrality_Max  AuthorClosenessCentrality_Max  \\\n",
       "0  9210123  1992                    0.002244                       0.002244   \n",
       "1  9206053  1992                    0.001496                       0.001496   \n",
       "2  9203079  1992                    0.002244                       0.002244   \n",
       "3  9308124  1992                    0.002244                       0.001683   \n",
       "4  9206084  1992                    0.002244                       0.000000   \n",
       "\n",
       "   AuthorDegreeCentrality_Sum  AuthorClosenessCentrality_Sum  \n",
       "0                    0.005236                       0.002244  \n",
       "1                    0.002244                       0.001496  \n",
       "2                    0.003740                       0.002244  \n",
       "3                    0.004488                       0.002431  \n",
       "4                    0.002244                       0.000000  "
      ]
     },
     "execution_count": 8,
     "metadata": {},
     "output_type": "execute_result"
    }
   ],
   "source": [
    "coauthor_df.head()"
   ]
  },
  {
   "cell_type": "code",
   "execution_count": 9,
   "metadata": {},
   "outputs": [
    {
     "data": {
      "text/html": [
       "<div>\n",
       "<style scoped>\n",
       "    .dataframe tbody tr th:only-of-type {\n",
       "        vertical-align: middle;\n",
       "    }\n",
       "\n",
       "    .dataframe tbody tr th {\n",
       "        vertical-align: top;\n",
       "    }\n",
       "\n",
       "    .dataframe thead th {\n",
       "        text-align: right;\n",
       "    }\n",
       "</style>\n",
       "<table border=\"1\" class=\"dataframe\">\n",
       "  <thead>\n",
       "    <tr style=\"text-align: right;\">\n",
       "      <th></th>\n",
       "      <th>PaperID</th>\n",
       "      <th>Year</th>\n",
       "      <th>YearsToNow</th>\n",
       "      <th>ReferenceNum</th>\n",
       "      <th>AuthorNum</th>\n",
       "    </tr>\n",
       "  </thead>\n",
       "  <tbody>\n",
       "    <tr>\n",
       "      <th>0</th>\n",
       "      <td>9210123</td>\n",
       "      <td>1992</td>\n",
       "      <td>0</td>\n",
       "      <td>6</td>\n",
       "      <td>4</td>\n",
       "    </tr>\n",
       "    <tr>\n",
       "      <th>1</th>\n",
       "      <td>9206053</td>\n",
       "      <td>1992</td>\n",
       "      <td>0</td>\n",
       "      <td>1</td>\n",
       "      <td>2</td>\n",
       "    </tr>\n",
       "    <tr>\n",
       "      <th>2</th>\n",
       "      <td>9203079</td>\n",
       "      <td>1992</td>\n",
       "      <td>0</td>\n",
       "      <td>1</td>\n",
       "      <td>3</td>\n",
       "    </tr>\n",
       "    <tr>\n",
       "      <th>3</th>\n",
       "      <td>9308124</td>\n",
       "      <td>1992</td>\n",
       "      <td>0</td>\n",
       "      <td>14</td>\n",
       "      <td>3</td>\n",
       "    </tr>\n",
       "    <tr>\n",
       "      <th>4</th>\n",
       "      <td>9206084</td>\n",
       "      <td>1992</td>\n",
       "      <td>0</td>\n",
       "      <td>1</td>\n",
       "      <td>1</td>\n",
       "    </tr>\n",
       "  </tbody>\n",
       "</table>\n",
       "</div>"
      ],
      "text/plain": [
       "   PaperID  Year  YearsToNow  ReferenceNum  AuthorNum\n",
       "0  9210123  1992           0             6          4\n",
       "1  9206053  1992           0             1          2\n",
       "2  9203079  1992           0             1          3\n",
       "3  9308124  1992           0            14          3\n",
       "4  9206084  1992           0             1          1"
      ]
     },
     "execution_count": 9,
     "metadata": {},
     "output_type": "execute_result"
    }
   ],
   "source": [
    "miscinfo_df.rename(columns={'NodeID':'PaperID'}, inplace=True)\n",
    "miscinfo_df.head()\n",
    "\n",
    "#print(len(miscinfo_df))"
   ]
  },
  {
   "cell_type": "code",
   "execution_count": 10,
   "metadata": {},
   "outputs": [
    {
     "name": "stdout",
     "output_type": "stream",
     "text": [
      "168563\n"
     ]
    }
   ],
   "source": [
    "merged_df = pd.merge(citation_df, coauthor_df, on=('PaperID', 'Year'))\n",
    "\n",
    "merged_df = pd.merge(merged_df, miscinfo_df, on=('PaperID', 'Year'))\n",
    "print(len(merged_df))"
   ]
  },
  {
   "cell_type": "code",
   "execution_count": 12,
   "metadata": {},
   "outputs": [],
   "source": [
    "merged_df.to_csv(\"./Data/Citation.csv\")"
   ]
  }
 ],
 "metadata": {
  "kernelspec": {
   "display_name": "cs579",
   "language": "python",
   "name": "python3"
  },
  "language_info": {
   "codemirror_mode": {
    "name": "ipython",
    "version": 3
   },
   "file_extension": ".py",
   "mimetype": "text/x-python",
   "name": "python",
   "nbconvert_exporter": "python",
   "pygments_lexer": "ipython3",
   "version": "3.9.18"
  }
 },
 "nbformat": 4,
 "nbformat_minor": 2
}
