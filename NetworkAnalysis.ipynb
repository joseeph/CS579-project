{
 "cells": [
  {
   "cell_type": "code",
   "execution_count": 1,
   "metadata": {},
   "outputs": [],
   "source": [
    "import pandas as pd\n",
    "\n",
    "from Framework import UtilFuncs\n",
    "from Framework.NodeContainer import NodeContainer\n",
    "from StandfordCitationNetworkAnalysis.CitationNetworkBuilder import CitationNetworkBuilder\n",
    "from StandfordCitationNetworkAnalysis.CoauthorNetworkBuilder import CoauthorNetworkBuilder\n",
    "\n",
    "import networkx as nx"
   ]
  },
  {
   "cell_type": "code",
   "execution_count": 2,
   "metadata": {},
   "outputs": [
    {
     "name": "stdout",
     "output_type": "stream",
     "text": [
      "load:./Data/CitationCleaned.dat\n"
     ]
    }
   ],
   "source": [
    "data_container :NodeContainer = UtilFuncs.PickleRead(\"./Data/CitationCleaned.dat\")\n",
    "citation_builder = CitationNetworkBuilder()\n",
    "citgraph_dict = citation_builder.GenGraphs(data_container)"
   ]
  },
  {
   "cell_type": "code",
   "execution_count": 3,
   "metadata": {},
   "outputs": [],
   "source": [
    "\n",
    "def BuildGraphStatistics( graph_dict ):\n",
    "    year_list = []\n",
    "\n",
    "    avg_clustering_list = []\n",
    "    avg_indegree_list = []\n",
    "\n",
    "    size_list = []\n",
    "\n",
    "    for year in graph_dict:\n",
    "        year_list.append(year)\n",
    "        graph :nx.DiGraph = graph_dict[year]\n",
    "        # average path length\n",
    "        #avg_pathlen = nx.average_shortest_path_length(graph)\n",
    "        # average clustering coefficnet\n",
    "        avg_clustering = nx.average_clustering(graph)\n",
    "        # average degree\n",
    "        node_num = len(graph.nodes)\n",
    "        size_list.append(node_num)\n",
    "        sum_indegree_val = 0\n",
    "        for (node_id, indegree_val) in graph.in_degree:\n",
    "            sum_indegree_val += indegree_val\n",
    "        avg_indegree = sum_indegree_val / node_num\n",
    "        avg_indegree_list.append(avg_indegree)\n",
    "        avg_clustering_list.append(avg_clustering)\n",
    "        \n",
    "    stat_df = pd.DataFrame()\n",
    "    stat_df['Year'] = year_list\n",
    "    stat_df['Size'] = size_list\n",
    "    stat_df['Average Degree'] = avg_indegree_list\n",
    "    stat_df['Average Clustering Coefficient'] = avg_clustering_list\n",
    "    return stat_df\n"
   ]
  },
  {
   "cell_type": "code",
   "execution_count": 4,
   "metadata": {},
   "outputs": [],
   "source": [
    "cit_df = BuildGraphStatistics(citgraph_dict)"
   ]
  },
  {
   "cell_type": "code",
   "execution_count": 5,
   "metadata": {},
   "outputs": [
    {
     "name": "stdout",
     "output_type": "stream",
     "text": [
      "    Year   Size  Average Degree  Average Clustering Coefficient\n",
      "0   1992   1122        0.566845                        0.024924\n",
      "1   1993   2841        1.654347                        0.064983\n",
      "2   1994   4924        2.615556                        0.092311\n",
      "3   1995   7077        3.974848                        0.118828\n",
      "4   1996   9543        5.565126                        0.133781\n",
      "5   1997  12123        7.235090                        0.142680\n",
      "6   1998  14765        8.476871                        0.148330\n",
      "7   1999  17484        9.557767                        0.151704\n",
      "8   2000  20534       10.614347                        0.153493\n",
      "9   2001  23587       11.525968                        0.154398\n",
      "10  2002  26793       12.465233                        0.156670\n",
      "11  2003  27770       12.704609                        0.156925\n"
     ]
    }
   ],
   "source": [
    "print(cit_df)"
   ]
  },
  {
   "cell_type": "code",
   "execution_count": 6,
   "metadata": {},
   "outputs": [
    {
     "name": "stdout",
     "output_type": "stream",
     "text": [
      "load:./Data/CitationCleaned.dat\n"
     ]
    }
   ],
   "source": [
    "data_container :NodeContainer = UtilFuncs.PickleRead(\"./Data/CitationCleaned.dat\")\n",
    "coauthor_builder = CoauthorNetworkBuilder()\n",
    "coauthorgraph_dict = coauthor_builder.GenGraphs(data_container)\n",
    "coauthor_df = BuildGraphStatistics(coauthorgraph_dict)"
   ]
  },
  {
   "cell_type": "code",
   "execution_count": 7,
   "metadata": {},
   "outputs": [
    {
     "name": "stdout",
     "output_type": "stream",
     "text": [
      "    Year   Size  Average Degree  Average Clustering Coefficient\n",
      "0   1992   1338        0.657698                        0.026681\n",
      "1   1993   2666        0.726932                        0.031752\n",
      "2   1994   4059        0.782951                        0.032664\n",
      "3   1995   5443        0.837590                        0.034689\n",
      "4   1996   6940        0.886023                        0.035411\n",
      "5   1997   8269        0.931310                        0.034235\n",
      "6   1998   9671        0.968256                        0.033857\n",
      "7   1999  11033        1.003444                        0.034593\n",
      "8   2000  13055        1.003064                        0.031068\n",
      "9   2001  14880        1.011895                        0.029120\n",
      "10  2002  16181        1.060070                        0.032426\n",
      "11  2003  16490        1.075076                        0.033565\n"
     ]
    }
   ],
   "source": [
    "print(coauthor_df)"
   ]
  },
  {
   "cell_type": "code",
   "execution_count": null,
   "metadata": {},
   "outputs": [],
   "source": []
  }
 ],
 "metadata": {
  "kernelspec": {
   "display_name": "cs579",
   "language": "python",
   "name": "python3"
  },
  "language_info": {
   "codemirror_mode": {
    "name": "ipython",
    "version": 3
   },
   "file_extension": ".py",
   "mimetype": "text/x-python",
   "name": "python",
   "nbconvert_exporter": "python",
   "pygments_lexer": "ipython3",
   "version": "3.9.18"
  }
 },
 "nbformat": 4,
 "nbformat_minor": 2
}
